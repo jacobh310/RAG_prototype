{
 "cells": [
  {
   "cell_type": "code",
   "execution_count": 9,
   "metadata": {},
   "outputs": [],
   "source": [
    "from llama_index.readers.file import FlatReader\n",
    "from pathlib import Path\n",
    "from llama_index.core.node_parser import UnstructuredElementNodeParser\n",
    "import os"
   ]
  },
  {
   "cell_type": "code",
   "execution_count": 12,
   "metadata": {},
   "outputs": [],
   "source": [
    "def get_all_file_paths(directory):\n",
    "    file_paths = []\n",
    "    \n",
    "    # Walk the directory tree\n",
    "    for root, _, files in os.walk(directory):\n",
    "        for file in files:\n",
    "            # Construct the full file path and add it to the list\n",
    "            file_paths.append(os.path.join(root, file))\n",
    "    \n",
    "    return file_paths\n",
    "# Example usage\n",
    "directory_path = \"..\\data\\\\raw\\sec-edgar-filings\"\n",
    "file_paths = get_all_file_paths(directory_path)"
   ]
  },
  {
   "cell_type": "code",
   "execution_count": 18,
   "metadata": {},
   "outputs": [],
   "source": [
    "reader = FlatReader()\n",
    "docs_2019 = reader.load_data(Path(file_paths[0]))\n"
   ]
  },
  {
   "cell_type": "code",
   "execution_count": 15,
   "metadata": {},
   "outputs": [],
   "source": [
    "node_parser = UnstructuredElementNodeParser()"
   ]
  },
  {
   "cell_type": "code",
   "execution_count": null,
   "metadata": {},
   "outputs": [],
   "source": []
  }
 ],
 "metadata": {
  "kernelspec": {
   "display_name": "RAG_prototype-288XYQjQ",
   "language": "python",
   "name": "python3"
  },
  "language_info": {
   "codemirror_mode": {
    "name": "ipython",
    "version": 3
   },
   "file_extension": ".py",
   "mimetype": "text/x-python",
   "name": "python",
   "nbconvert_exporter": "python",
   "pygments_lexer": "ipython3",
   "version": "3.11.1"
  }
 },
 "nbformat": 4,
 "nbformat_minor": 2
}
