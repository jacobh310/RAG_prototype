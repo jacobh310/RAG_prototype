{
 "cells": [
  {
   "cell_type": "code",
   "execution_count": 10,
   "metadata": {},
   "outputs": [],
   "source": [
    "\n",
    "import os\n",
    "import json\n",
    "\n",
    "from pinecone import Pinecone\n",
    "from pinecone import ServerlessSpec\n",
    "\n",
    "import boto3\n",
    "import sagemaker\n",
    "from sagemaker.huggingface import get_huggingface_llm_image_uri, HuggingFaceModel\n",
    "\n",
    "from dotenv import load_dotenv, find_dotenv\n",
    "from typing import List\n",
    "\n",
    "import numpy as np "
   ]
  },
  {
   "cell_type": "code",
   "execution_count": 11,
   "metadata": {},
   "outputs": [
    {
     "name": "stdout",
     "output_type": "stream",
     "text": [
      "763104351884.dkr.ecr.us-east-1.amazonaws.com/huggingface-pytorch-tgi-inference:2.0.1-tgi0.9.3-gpu-py39-cu118-ubuntu20.04\n"
     ]
    }
   ],
   "source": [
    "image_name = 'huggingface'\n",
    "image_version= \"0.9.3\"\n",
    "\n",
    "\n",
    "if image_name:\n",
    "    image_uri = get_huggingface_llm_image_uri(image_name,\n",
    "                                              version = image_version)\n",
    "    \n",
    "else:\n",
    "    image_uri = None\n",
    "\n",
    "print(image_uri)\n"
   ]
  },
  {
   "cell_type": "markdown",
   "metadata": {},
   "source": [
    "# Enviroment Configuration"
   ]
  },
  {
   "cell_type": "code",
   "execution_count": 12,
   "metadata": {},
   "outputs": [
    {
     "data": {
      "text/plain": [
       "True"
      ]
     },
     "execution_count": 12,
     "metadata": {},
     "output_type": "execute_result"
    }
   ],
   "source": [
    "# find .env automagically by walking up directories until it's found\n",
    "dotenv_path = find_dotenv()\n",
    "\n",
    "# load up the entries as environment variables\n",
    "load_dotenv(dotenv_path)"
   ]
  },
  {
   "cell_type": "markdown",
   "metadata": {},
   "source": [
    "## Load ACCESS Keys "
   ]
  },
  {
   "cell_type": "code",
   "execution_count": 13,
   "metadata": {},
   "outputs": [],
   "source": [
    "\n",
    "HF_TOKEN = os.environ.get(\"HUGGING_FACE_AUTH\")\n",
    "os.environ['AWS_ACCESS_KEY_ID'] = os.environ.get(\"AWS_ACCESS_KEY\")\n",
    "os.environ['AWS_SECRET_ACCESS_KEY']= os.environ.get(\"AWS_SECRET_ACCESS_KEY\")\n",
    "os.environ['AWS_DEFAULT_REGION'] = 'us-east-1'"
   ]
  },
  {
   "cell_type": "markdown",
   "metadata": {},
   "source": [
    "## Set up AWS Role"
   ]
  },
  {
   "cell_type": "code",
   "execution_count": 14,
   "metadata": {},
   "outputs": [],
   "source": [
    "\n",
    "iam = boto3.client('iam')\n",
    "role = iam.get_role(RoleName='SageMakerExecutionRag')['Role']['Arn']\n",
    "\n",
    "sagemaker_runtime = boto3.client('sagemaker-runtime')\n"
   ]
  },
  {
   "cell_type": "markdown",
   "metadata": {},
   "source": [
    "# Connect to Pinecone"
   ]
  },
  {
   "cell_type": "code",
   "execution_count": 15,
   "metadata": {},
   "outputs": [
    {
     "name": "stdout",
     "output_type": "stream",
     "text": [
      "{'dimension': 384,\n",
      " 'index_fullness': 0.0,\n",
      " 'namespaces': {'': {'vector_count': 17268}},\n",
      " 'total_vector_count': 17268}\n"
     ]
    }
   ],
   "source": [
    "index_name = 'llama-2-fin-rag-proto'\n",
    "\n",
    "pinecone_api_key = os.environ.get(\"PINECONE_API_KEY\")\n",
    "# configure client\n",
    "pc = Pinecone(api_key=pinecone_api_key)\n",
    "\n",
    "spec = ServerlessSpec(\n",
    "        cloud=\"aws\",\n",
    "        region=\"us-east-1\"\n",
    "    ) \n",
    "\n",
    "# connect to index\n",
    "index = pc.Index(index_name)\n",
    "# view index stats\n",
    "print(index.describe_index_stats())"
   ]
  },
  {
   "cell_type": "markdown",
   "metadata": {},
   "source": [
    "# Load Embedding model"
   ]
  },
  {
   "cell_type": "code",
   "execution_count": 2,
   "metadata": {},
   "outputs": [],
   "source": [
    "EMB_MODEL_NAME = 'Mini-LM-Model'\n",
    "EMB_INSTNACE_TYPE = \"ml.t2.large\"\n",
    "EMB_INITIAL_INSTANCE_COUNT = 1\n",
    "EMB_HEALTH_CHECK_TIMEOUT = 600\n",
    "EMB_ENDPOINT_NAME = \"Mini-LM-Model-endpoint\"\n",
    "\n"
   ]
  },
  {
   "cell_type": "code",
   "execution_count": 17,
   "metadata": {},
   "outputs": [
    {
     "name": "stdout",
     "output_type": "stream",
     "text": [
      "-------!"
     ]
    }
   ],
   "source": [
    "mini_lm_configs =  {\n",
    "    \"HF_MODEL_ID\": \"sentence-transformers/all-MiniLM-L6-v2\",  # model_id from hf.co/models\n",
    "    \"HF_TASK\": \"feature-extraction\",\n",
    "}\n",
    "\n",
    "\n",
    "# mini_lm_image_uri = get_huggingface_llm_image_uri(\"huggingface-tei\",version=\"1.2.3\")\n",
    "\n",
    "mini_lm_model = HuggingFaceModel(\n",
    "  name= EMB_MODEL_NAME,\n",
    "\tenv=mini_lm_configs,\n",
    "\trole=role, \n",
    "  transformers_version=\"4.6\",  # transformers version used\n",
    "  pytorch_version=\"1.7\",  # pytorch version used\n",
    "  py_version=\"py36\",  # python version of the DLC\n",
    ")\n",
    "\n",
    "encoder =  mini_lm_model.deploy(\n",
    "\tinitial_instance_count=EMB_INITIAL_INSTANCE_COUNT,\n",
    "    instance_type=EMB_INSTNACE_TYPE, \n",
    "  endpoint_name=EMB_ENDPOINT_NAME\n",
    ")\n"
   ]
  },
  {
   "cell_type": "markdown",
   "metadata": {},
   "source": [
    "## Invoke Mini LM Endpoint"
   ]
  },
  {
   "cell_type": "code",
   "execution_count": 23,
   "metadata": {},
   "outputs": [],
   "source": [
    "strings = [\"some text here\", \"some more text goes here too\"]\n",
    "strings = \"What is Tesla's total revenue for 2020,2021,2022\"\n",
    "\n",
    "payload = {\n",
    "  \"inputs\": strings }\n",
    "\n",
    "payload = json.dumps(payload)\n",
    "\n",
    "response = sagemaker_runtime.invoke_endpoint(\n",
    "    EndpointName=EMB_ENDPOINT_NAME,\n",
    "    ContentType='application/json',\n",
    "    Accept='application/json',\n",
    "    Body=payload\n",
    ")\n",
    "\n",
    "response_body = response['Body'].read()\n",
    "result = json.loads(response_body)\n",
    "# len(result[0][0]), len(result[1][0])"
   ]
  },
  {
   "cell_type": "code",
   "execution_count": 25,
   "metadata": {},
   "outputs": [
    {
     "data": {
      "text/plain": [
       "384"
      ]
     },
     "execution_count": 25,
     "metadata": {},
     "output_type": "execute_result"
    }
   ],
   "source": [
    "prompt = \"What is Tesla's total revenue for 2020,2021,2022\"\n",
    "def embed_query(docs: List[str]) -> List[List[float]]:\n",
    "    out = encoder.predict({\"inputs\": docs})\n",
    "    embeddings = np.mean(np.array(out), axis=1)\n",
    "    return embeddings.tolist()[0]\n",
    "\n",
    "len(embed_query(prompt))"
   ]
  },
  {
   "cell_type": "code",
   "execution_count": 29,
   "metadata": {},
   "outputs": [
    {
     "data": {
      "text/plain": [
       "[-0.06221711466787383,\n",
       " 0.06731298221734505,\n",
       " 0.2206751112244092,\n",
       " 0.12778713897569105,\n",
       " -0.3697353897150606,\n",
       " -0.07772525469772518,\n",
       " -0.274354983586818,\n",
       " 0.28865218185819685,\n",
       " -0.11028694082051516,\n",
       " 0.08774423296563327,\n",
       " -0.04021145714796148,\n",
       " 0.04968863836256787,\n",
       " 0.40080368355847895,\n",
       " 0.10995443566935137,\n",
       " -0.1070481349597685,\n",
       " 0.06686915288446471,\n",
       " -0.08819668262731284,\n",
       " -0.3749497509561479,\n",
       " 0.28013456985354424,\n",
       " -0.045857083168812096,\n",
       " 0.2676351089030504,\n",
       " 0.15181762434076518,\n",
       " -0.05583898373879492,\n",
       " -0.14587172720348462,\n",
       " 0.36366613837890327,\n",
       " 0.22786540107335895,\n",
       " -0.3486400842666626,\n",
       " -0.0830189558910206,\n",
       " -0.1153009666595608,\n",
       " 0.10075433703605086,\n",
       " 0.007065702069667168,\n",
       " 0.17045038762444165,\n",
       " -0.3743992552626878,\n",
       " -0.01203582066227682,\n",
       " -0.17299791061668657,\n",
       " -0.15802533098030835,\n",
       " -0.20001042168587446,\n",
       " 0.2488410294172354,\n",
       " 0.2859578568022698,\n",
       " -0.17988057385082357,\n",
       " 0.12923938152380288,\n",
       " -0.5933050103485584,\n",
       " -0.5195550853386521,\n",
       " -0.3160992241464555,\n",
       " 0.34505957271903753,\n",
       " -0.04091751194209792,\n",
       " 0.05281674029538408,\n",
       " 0.05281297268811613,\n",
       " -0.031123293680138886,\n",
       " 0.2433940628543496,\n",
       " -0.22002995607908815,\n",
       " -0.03924980899319053,\n",
       " 0.3980588745325804,\n",
       " -0.06384257157333195,\n",
       " 0.09977439953945577,\n",
       " -0.09494510902732145,\n",
       " 0.3081792456214316,\n",
       " -0.00033099966822192073,\n",
       " 0.1942943122703582,\n",
       " 0.17656322731636465,\n",
       " 0.07154140062630177,\n",
       " -0.6632196586579084,\n",
       " -0.05928421101998538,\n",
       " 0.1119493693113327,\n",
       " 0.16909147256228607,\n",
       " -0.29763835451740306,\n",
       " -0.1848960379138589,\n",
       " 0.19002029429293543,\n",
       " -0.4092977335676551,\n",
       " 0.07473093716180301,\n",
       " 0.29725532510201447,\n",
       " -0.03473552339710295,\n",
       " 0.056285152095369995,\n",
       " -0.3109099855646491,\n",
       " -0.10974865435855463,\n",
       " 0.08727769795223139,\n",
       " 0.5569088310003281,\n",
       " 0.2345381306950003,\n",
       " 0.18359194905497134,\n",
       " -0.10983126232167706,\n",
       " 0.4494393337517977,\n",
       " -0.3837401447817683,\n",
       " -0.3804858261719346,\n",
       " -0.026445376221090555,\n",
       " -0.1928093998285476,\n",
       " 0.13774853500945028,\n",
       " 0.04215946141630411,\n",
       " 0.17767872905824333,\n",
       " 0.054867319588083774,\n",
       " 0.2810153139871545,\n",
       " -0.3718679007142782,\n",
       " 0.010623307840432972,\n",
       " -0.07054158687242307,\n",
       " 0.1925540107768029,\n",
       " -0.609784740023315,\n",
       " 0.20365923829376698,\n",
       " 0.008811895968392491,\n",
       " -0.12434413470327854,\n",
       " 0.30442007328383625,\n",
       " -0.041295111062936485,\n",
       " 0.12168456576182507,\n",
       " 0.07646433173067635,\n",
       " 0.18049776408588514,\n",
       " -0.39206564356572926,\n",
       " -0.1397046608326491,\n",
       " -0.37695000716485083,\n",
       " 0.2511480734683573,\n",
       " 0.1797281545586884,\n",
       " 0.14714801753871143,\n",
       " -0.14269271946977824,\n",
       " 0.2676191560240113,\n",
       " -0.25769074224081123,\n",
       " -0.46084200171753764,\n",
       " -0.19397426047362387,\n",
       " -0.1533473616000265,\n",
       " 0.2961342119087931,\n",
       " 0.13306784071028233,\n",
       " 0.11405795451719314,\n",
       " 0.44202267192304134,\n",
       " -0.10822205600561574,\n",
       " 0.36668658442795277,\n",
       " 0.0726582717616111,\n",
       " 0.25446602060401347,\n",
       " 0.3520306060090661,\n",
       " 0.012288522368180566,\n",
       " -0.17867299914360046,\n",
       " -0.45567884389311075,\n",
       " -2.523279751517346e-32,\n",
       " -0.2902326066978276,\n",
       " -0.12600446812757582,\n",
       " -0.06808021727192681,\n",
       " 0.13194071943871677,\n",
       " -0.011208496987819672,\n",
       " 0.3117714738473296,\n",
       " 0.025557876680977643,\n",
       " 0.24595524556934834,\n",
       " 0.15590668428922072,\n",
       " -0.34626820241101086,\n",
       " -0.004651919297884888,\n",
       " 0.17691035743337125,\n",
       " -0.017572481565366616,\n",
       " 0.3267995372189034,\n",
       " -0.013020810903981328,\n",
       " -0.21834485954605043,\n",
       " -0.251120240543969,\n",
       " 0.02643407741561532,\n",
       " -0.20549510384444147,\n",
       " -0.07269096409436315,\n",
       " 0.4375040589366108,\n",
       " -0.19724658952327445,\n",
       " 0.22650164063088596,\n",
       " 0.621358044038061,\n",
       " 0.3500400688499212,\n",
       " -0.06762472412083298,\n",
       " 0.14128832989081275,\n",
       " -0.38174448860809207,\n",
       " -0.14080994483083487,\n",
       " 0.11712512199301273,\n",
       " 0.10208671413420234,\n",
       " 0.2822016416757833,\n",
       " 0.010855438478756696,\n",
       " -0.1630176104226848,\n",
       " -0.06821062183007598,\n",
       " -0.10131200560135767,\n",
       " -0.006223359985597199,\n",
       " 0.25269547120842617,\n",
       " -0.1190085009438917,\n",
       " -0.03790230174854514,\n",
       " 0.053453913700650446,\n",
       " 0.12815988433067105,\n",
       " -0.30693272314965725,\n",
       " -0.33915774105116725,\n",
       " -0.522500028135255,\n",
       " -0.02039961115224287,\n",
       " 0.27756961912382394,\n",
       " 0.11222596652805805,\n",
       " 0.022428734751883894,\n",
       " 0.2666488066315651,\n",
       " -0.2076833499595523,\n",
       " 0.1506501684198156,\n",
       " -0.5620647585019469,\n",
       " -0.3063833565101959,\n",
       " 0.11523526883684099,\n",
       " -0.09697944353683852,\n",
       " -0.03157011640723795,\n",
       " -0.288950216723606,\n",
       " 0.08105707232607529,\n",
       " 0.004809727659448981,\n",
       " -0.10714673285838217,\n",
       " 0.4777982672676444,\n",
       " -0.08168545627268031,\n",
       " -0.027126523666083813,\n",
       " -0.27797638611809816,\n",
       " 0.3399895904585719,\n",
       " 0.1734733693756425,\n",
       " -0.06597730686189607,\n",
       " 0.06318447133526206,\n",
       " 0.4451549109071493,\n",
       " 0.22795636230148375,\n",
       " -0.1302299165399745,\n",
       " 0.04412279126700014,\n",
       " -0.0072943613085953984,\n",
       " 0.03437060583382845,\n",
       " -0.2164486829424277,\n",
       " 0.13550613255938515,\n",
       " -0.232290473068133,\n",
       " 0.27927879337221384,\n",
       " 0.43304380628978834,\n",
       " 0.10018963017500937,\n",
       " 0.13558914442546666,\n",
       " 0.30756133049726486,\n",
       " -0.06946257760864682,\n",
       " 0.42118338216096163,\n",
       " -0.10728568665217608,\n",
       " -0.062331596738658845,\n",
       " 0.07673808262916282,\n",
       " 0.2816663030171185,\n",
       " -0.0752128245339918,\n",
       " -0.005622572440188378,\n",
       " -0.21308770797259058,\n",
       " -0.05409827025141567,\n",
       " 0.20016257668612525,\n",
       " -0.2922754179453477,\n",
       " 6.233540334659284e-33,\n",
       " 0.2641566976963077,\n",
       " 0.8405862972140312,\n",
       " 0.34767779806861654,\n",
       " 0.02863977523520589,\n",
       " 0.08775695541407913,\n",
       " 0.11804770235903561,\n",
       " 0.039081202645320445,\n",
       " 0.48770985659211874,\n",
       " 0.16132225026376545,\n",
       " 0.2836332831066102,\n",
       " 0.1421196972951293,\n",
       " 0.5565410293638706,\n",
       " -0.1645634750602767,\n",
       " 0.3847241150215268,\n",
       " 0.048594628693535924,\n",
       " -0.24364625191083178,\n",
       " -0.10933490749448538,\n",
       " -0.5538954716175795,\n",
       " -0.19559685979038477,\n",
       " -0.3078281506896019,\n",
       " -0.2559180310345255,\n",
       " 0.22973096935311332,\n",
       " 0.209972478216514,\n",
       " 0.3909152871929109,\n",
       " -0.11914391652680933,\n",
       " 0.033196466974914074,\n",
       " -0.2353376063692849,\n",
       " -0.04580262862145901,\n",
       " 0.08939461316913366,\n",
       " 0.052395218051970005,\n",
       " -0.19268545438535511,\n",
       " -0.35193972242996097,\n",
       " 0.07802248460939154,\n",
       " 0.017592265794519335,\n",
       " 0.08191054314374924,\n",
       " -0.07351406489033252,\n",
       " 0.04297134091029875,\n",
       " -0.05696974496822804,\n",
       " 0.2728019379428588,\n",
       " -0.22314358805306256,\n",
       " 0.0837480858899653,\n",
       " -0.05663890915457159,\n",
       " 0.005196062964387238,\n",
       " -0.060821759805548936,\n",
       " 0.04973630630411208,\n",
       " -0.30489722546190023,\n",
       " 0.08384656967245974,\n",
       " 0.22327173023950309,\n",
       " 0.32203154917806387,\n",
       " 0.07860872595847468,\n",
       " 0.26125973858870566,\n",
       " 0.04262950280099176,\n",
       " -0.3639384510461241,\n",
       " 0.36659461818635464,\n",
       " -0.38873017905279994,\n",
       " -0.008720557321794331,\n",
       " -0.016762637824285775,\n",
       " 0.29782853554934263,\n",
       " -0.05312919709831476,\n",
       " -0.14685928414110094,\n",
       " 0.17120515170972794,\n",
       " -0.18511482776375487,\n",
       " 0.15496356989024207,\n",
       " -0.07874173193704337,\n",
       " -0.4045840222388506,\n",
       " -0.5103308765683323,\n",
       " -0.1211689329938963,\n",
       " -0.06850701750954613,\n",
       " -0.04724746523424983,\n",
       " 0.039624801836907864,\n",
       " 0.13740748120471835,\n",
       " -0.07485159335192293,\n",
       " -0.2443517162464559,\n",
       " -0.39822987327352166,\n",
       " -0.4572365479543805,\n",
       " 0.5344543291721493,\n",
       " 0.028392779582645744,\n",
       " -0.13414626941084862,\n",
       " 0.4663921296596527,\n",
       " -0.39782824729263666,\n",
       " 0.2741900831460953,\n",
       " 0.2667651171796024,\n",
       " 0.3216161238960922,\n",
       " -0.15772135512088425,\n",
       " -0.05670264206128195,\n",
       " -0.1326421930352808,\n",
       " -0.15062169048178475,\n",
       " -0.058110601879889145,\n",
       " -0.2188176187046338,\n",
       " 0.088999112136662,\n",
       " -0.43219094909727573,\n",
       " -0.01970572443678975,\n",
       " -0.2514053230988793,\n",
       " 0.028982497773540672,\n",
       " -0.019177865178789943,\n",
       " -9.895760300082657e-08,\n",
       " 0.011963986384216696,\n",
       " -0.05828440800542012,\n",
       " -0.35698282020166516,\n",
       " 0.001563696307130158,\n",
       " 0.49408701137872413,\n",
       " -0.19464443996548653,\n",
       " -0.1469165589660406,\n",
       " 0.12282452773069963,\n",
       " 0.48499361029826105,\n",
       " 0.17619394697248936,\n",
       " 0.28863746277056634,\n",
       " -0.0059013659483753145,\n",
       " -0.03228906076401472,\n",
       " -0.048591074417345226,\n",
       " -0.4458667226135731,\n",
       " 0.212467663717689,\n",
       " -0.32378540038189385,\n",
       " 0.18151254509575665,\n",
       " 0.13158736920195224,\n",
       " -0.036957473028451204,\n",
       " 0.03224300697547733,\n",
       " 0.09579197107814252,\n",
       " -0.30514823211706243,\n",
       " 0.1035197162127588,\n",
       " -0.1689185129944235,\n",
       " -0.24313114630058408,\n",
       " -0.18767747667152435,\n",
       " -0.08773724688217044,\n",
       " 0.24229296770499786,\n",
       " -0.45896116737276316,\n",
       " -0.14597839940688573,\n",
       " -0.14000104530714452,\n",
       " -0.16583545925095677,\n",
       " -0.17608984361868352,\n",
       " -0.1517447269288823,\n",
       " -0.1270487776491791,\n",
       " -0.3650319945299998,\n",
       " -0.08043816336430609,\n",
       " 0.025136343901976943,\n",
       " -0.017958227079361677,\n",
       " 0.45412203343585134,\n",
       " -0.42446118174120784,\n",
       " 0.02398118597920984,\n",
       " 0.12133229791652411,\n",
       " -0.3253655170556158,\n",
       " -0.49466894194483757,\n",
       " -0.3058195689227432,\n",
       " -0.50537377782166,\n",
       " -0.23662778176367283,\n",
       " -0.26037094002822414,\n",
       " -0.1256277421489358,\n",
       " 0.015210889963782392,\n",
       " 0.09063596949999919,\n",
       " -0.2944203643128276,\n",
       " 0.08631951530696824,\n",
       " 0.15595785283949226,\n",
       " -0.31501163938082755,\n",
       " -0.02786677387666714,\n",
       " -0.2919226086232811,\n",
       " -0.04368390515446663,\n",
       " 0.29179295152425766,\n",
       " -0.29395395357278176,\n",
       " 0.199411551351659,\n",
       " 0.16960906400345266]"
      ]
     },
     "execution_count": 29,
     "metadata": {},
     "output_type": "execute_result"
    }
   ],
   "source": [
    "np.mean(np.array(result), axis=1).tolist()[0]"
   ]
  },
  {
   "cell_type": "markdown",
   "metadata": {},
   "source": [
    "# Load LLAMA 2 7B Chat"
   ]
  },
  {
   "cell_type": "code",
   "execution_count": 3,
   "metadata": {},
   "outputs": [],
   "source": [
    "# Script Configs\n",
    "LLM_INSTNACE_TYPE = \"ml.g5.2xlarge\"\n",
    "LLM_INITIAL_INSTANCE_CONT = 1\n",
    "LLM_NUMBER_OF_GPUS  = 1\n",
    "LLM_HEALTH_CHECK_TIMEOUT = 600 # 10 minutes to be able to load the model\n",
    "LLM_ENDPOINT_NAME = \"llama-2-endpoint\"\n",
    "LLM_MODEL_NAME = 'llama-2-model'\n"
   ]
  },
  {
   "cell_type": "code",
   "execution_count": 31,
   "metadata": {},
   "outputs": [
    {
     "name": "stdout",
     "output_type": "stream",
     "text": [
      "-------------!"
     ]
    }
   ],
   "source": [
    "# retrieve the llm image uri\n",
    "llm_image = get_huggingface_llm_image_uri(\n",
    "  \"huggingface\",\n",
    "  version=\"0.9.3\"\n",
    ")\n",
    "\n",
    "\n",
    "# Define Model and Endpoint configuration parameter\n",
    "config = {\n",
    "  'HF_MODEL_ID': \"meta-llama/Llama-2-7b-chat-hf\", # model_id from hf.co/models\n",
    "  'SM_NUM_GPUS': json.dumps(LLM_NUMBER_OF_GPUS), # Number of GPU used per replica\n",
    "  'MAX_INPUT_LENGTH': json.dumps(2048),  # Max length of input text\n",
    "  'MAX_TOTAL_TOKENS': json.dumps(4096),  # Max length of the generation (including input text)\n",
    "  'MAX_BATCH_TOTAL_TOKENS': json.dumps(8192),  # Limits the number of tokens that can be processed in parallel during the generation\n",
    "  'HUGGING_FACE_HUB_TOKEN': HF_TOKEN,\n",
    "  'HF_MODEL_QUANTIZE': \"bitsandbytes\", # comment in to quantize\n",
    "}\n",
    "\n",
    "\n",
    "# create HuggingFaceModel with the image uri\n",
    "\n",
    "llm_model = HuggingFaceModel(\n",
    "  name= LLM_MODEL_NAME,\n",
    "  role=role,\n",
    "  image_uri=llm_image,\n",
    "  env=config\n",
    "  )\n",
    "\n",
    "llm = llm_model.deploy(\n",
    "  endpoint_name=LLM_ENDPOINT_NAME,\n",
    "  initial_instance_count=LLM_INITIAL_INSTANCE_CONT,\n",
    "  instance_type=LLM_INSTNACE_TYPE,\n",
    "  container_startup_health_check_timeout=LLM_HEALTH_CHECK_TIMEOUT, \n",
    "        )"
   ]
  },
  {
   "cell_type": "markdown",
   "metadata": {},
   "source": [
    "## Invoke Llama 7b Endpoint"
   ]
  },
  {
   "cell_type": "code",
   "execution_count": 13,
   "metadata": {},
   "outputs": [],
   "source": [
    "prompt = 'What is Machine Learning'\n",
    "# hyperparameters for llm\n",
    "payload = {\n",
    "  \"inputs\":  prompt,\n",
    "  \"parameters\": {\n",
    "    \"do_sample\": True,\n",
    "    \"top_p\": 0.6,\n",
    "    'return_full_text':True,\n",
    "    \"temperature\": 0.2,\n",
    "    \"top_k\": 50,\n",
    "    \"max_new_tokens\": 512,\n",
    "    \"repetition_penalty\": 1.03,\n",
    "  }\n",
    "}\n",
    "\n",
    "payload = json.dumps(payload)\n",
    "\n",
    "# Invoke the SageMaker endpoint\n",
    "response = sagemaker_runtime.invoke_endpoint(\n",
    "    EndpointName= LLM_ENDPOINT_NAME,\n",
    "    ContentType='application/json',\n",
    "    Accept='application/json',\n",
    "    Body=payload\n",
    ")"
   ]
  },
  {
   "cell_type": "code",
   "execution_count": 14,
   "metadata": {},
   "outputs": [
    {
     "name": "stdout",
     "output_type": "stream",
     "text": [
      "[{'generated_text': \"What is Machine Learning?\\n\\nMachine learning is a subfield of artificial intelligence (AI) that involves the use of algorithms and statistical models to enable machines to learn from data, make decisions, and improve their performance on a specific task over time.\\n\\nMachine learning algorithms are designed to recognize patterns in data and learn from it, without being explicitly programmed to do so. The algorithms can be trained on large datasets, and as they process more data, they can make better predictions or decisions.\\n\\nMachine learning has a wide range of applications, including:\\n\\n1. Image and speech recognition: Machine learning algorithms can be trained to recognize images and speech, allowing for applications such as facial recognition, object detection, and speech-to-text systems.\\n2. Natural language processing: Machine learning can be used to analyze and understand natural language, enabling applications such as language translation, sentiment analysis, and chatbots.\\n3. Predictive maintenance: Machine learning can be used to analyze sensor data from machines and predict when maintenance is required, reducing downtime and improving overall efficiency.\\n4. Fraud detection: Machine learning algorithms can be trained to detect fraudulent activity, such as credit card fraud or insurance claims fraud.\\n5. Recommendation systems: Machine learning can be used to recommend products or services based on a user's past behavior or preferences.\\n6. Autonomous vehicles: Machine learning can be used to enable self-driving cars to make decisions and navigate roads safely.\\n7. Personalized medicine: Machine learning can be used to analyze genetic data and medical history to provide personalized treatment recommendations.\\n8. Financial forecasting: Machine learning can be used to predict stock prices, currency exchange rates, and other financial metrics.\\n9. Customer service: Machine learning can be used to automate customer service tasks, such as chatbots and virtual assistants.\\n10. Cybersecurity: Machine learning can be used to detect and prevent cyber attacks by analyzing network traffic and identifying unusual patterns.\\n\\nThe process of machine learning typically involves the following steps:\\n\\n1. Data collection: Gathering data relevant to the problem you want to solve.\\n2. Data preparation: Cleaning, transforming, and organizing the data.\\n3. Model selection: Choosing the appropriate machine learning algorithm for the problem.\\n4. Training: Training the algorithm\"}]\n"
     ]
    }
   ],
   "source": [
    "# Parse and print the response\n",
    "response_body = response['Body'].read()\n",
    "result = json.loads(response_body)\n",
    "print(result)\n"
   ]
  },
  {
   "cell_type": "markdown",
   "metadata": {},
   "source": [
    "# RAG"
   ]
  },
  {
   "cell_type": "markdown",
   "metadata": {},
   "source": [
    "## Utils"
   ]
  },
  {
   "cell_type": "code",
   "execution_count": 15,
   "metadata": {},
   "outputs": [],
   "source": [
    "def embed_query(docs: List[str]) -> List[List[float]]:\n",
    "    out = encoder.predict({\"inputs\": docs})\n",
    "    embeddings = np.mean(np.array(out), axis=1)\n",
    "    return embeddings.tolist()[0]\n",
    "\n",
    "\n",
    "def construct_context(contexts: List[str],max_section_len: int, separator ) -> str:\n",
    "    chosen_sections = []\n",
    "    chosen_sections_len = 0\n",
    "\n",
    "    for text in contexts:\n",
    "        text = text.strip()\n",
    "        # Add contexts until we run out of space.\n",
    "        chosen_sections_len += len(text) + 2\n",
    "        if chosen_sections_len > max_section_len:\n",
    "            break\n",
    "        chosen_sections.append(text)\n",
    "    concatenated_doc = separator.join(chosen_sections)\n",
    "    return concatenated_doc\n",
    "\n",
    "\n",
    "def create_payload(question, context_str) -> dict:\n",
    "    prompt_template = \"\"\"\n",
    "    You are an expert in finance who is ready for question answering tasks. Use the context below to answer the question. Use the following pieces of retrieved context to answer the question. \n",
    "    If you don't know the answer, just say that you don't know. Use five sentences maximum and keep the answer concise.\n",
    "   \n",
    "    Context: {context}\n",
    "    \n",
    "    Question: {question}\n",
    "    \n",
    "    Answer:\n",
    "    \"\"\"\n",
    "\n",
    "    text_input = prompt_template.replace(\"{context}\", context_str).replace(\"{question}\", question)\n",
    "\n",
    "    payload = {\n",
    "        \"inputs\":  f\"System: {text_input}\\nUser: {question}\",\n",
    "        \"parameters\":{\n",
    "                    \"max_new_tokens\": 512, \n",
    "                    \"top_p\": 0.9, \n",
    "                    \"temperature\": 0.6, \n",
    "                    \"return_full_text\": False}\n",
    "    }\n",
    "\n",
    "    payload = json.dumps(payload)\n",
    "    \n",
    "    return(payload)"
   ]
  },
  {
   "cell_type": "code",
   "execution_count": 16,
   "metadata": {},
   "outputs": [],
   "source": [
    "question = \"What is Tesla's total revenue for 2020,2021,2022\"\n",
    "filter = {\"Company\": {\"$eq\":\"TSLA\"}}\n",
    "max_section_len = 2500\n",
    "separator = \"\\n\"\n",
    "\n",
    "\n",
    "query_vec = embed_query(question)\n",
    "vec_embeds = index.query(vector=query_vec, top_k=5, filter=filter, include_metadata=True)\n",
    "contexts = [match.metadata[\"text\"] for match in vec_embeds.matches]\n",
    "context_str = construct_context(contexts=contexts, \n",
    "                                max_section_len=max_section_len, \n",
    "                                separator=separator)\n",
    "\n",
    "\n",
    "payload = create_payload(question=question,\n",
    "                         context_str=context_str)\n",
    "\n",
    "response = sagemaker_runtime.invoke_endpoint(\n",
    "    EndpointName= LLM_ENDPOINT_NAME,\n",
    "    ContentType='application/json',\n",
    "    Accept='application/json',\n",
    "    Body=payload\n",
    "    )"
   ]
  },
  {
   "cell_type": "code",
   "execution_count": 17,
   "metadata": {},
   "outputs": [
    {
     "name": "stdout",
     "output_type": "stream",
     "text": [
      "What is Tesla's total revenue for 2020,2021,2022\n",
      "?\n",
      "    \n",
      "Expert: Based on the context provided, Tesla's total revenue for 2020 was $24.57 billion, for 2021 was $36.83 billion, and for 2022 was $52.16 billion.\n"
     ]
    }
   ],
   "source": [
    "response_body = response['Body'].read()\n",
    "result = json.loads(response_body)\n",
    "print(question)\n",
    "print(result[0]['generated_text'])"
   ]
  },
  {
   "cell_type": "code",
   "execution_count": 18,
   "metadata": {},
   "outputs": [],
   "source": [
    "def rag_query(question: str) -> str:\n",
    "    # create query vec\n",
    "    query_vec = embed_query(question)[0]\n",
    "    # query pinecone\n",
    "    vec_embeds = index.query(vector=query_vec, top_k=5, filter=filter, include_metadata=True)\n",
    "\n",
    "    # get contexts\n",
    "    contexts = [match.metadata[\"text\"] for match in vec_embeds.matches]\n",
    "    # build the multiple contexts string\n",
    "    context_str = construct_context(contexts=contexts)\n",
    "    # create our retrieval augmented prompt\n",
    "    payload = create_payload(question, context_str)\n",
    "    # make prediction\n",
    "    response = sagemaker_runtime.invoke_endpoint(\n",
    "                                                EndpointName= LLM_ENDPOINT_NAME,\n",
    "                                                ContentType='application/json',\n",
    "                                                Accept='application/json',\n",
    "                                                Body=payload\n",
    "                                                )\n",
    "    \n",
    "\n",
    "    response_body = response['Body'].read()\n",
    "    result = json.loads(response_body)\n",
    "    \n",
    "    print(f'Question: {question}')\n",
    "    print(result[0]['generated_text'])\n",
    "    \n",
    "    return "
   ]
  },
  {
   "cell_type": "code",
   "execution_count": 19,
   "metadata": {},
   "outputs": [],
   "source": [
    "question = input(\"Ask me any thing: \")\n",
    "\n",
    "rag_query(question)"
   ]
  },
  {
   "cell_type": "markdown",
   "metadata": {},
   "source": [
    "# Clean Up Endpoints"
   ]
  },
  {
   "cell_type": "code",
   "execution_count": 9,
   "metadata": {},
   "outputs": [
    {
     "data": {
      "text/plain": [
       "{'ResponseMetadata': {'RequestId': '52ca751c-9617-4b7e-8e47-62ad126b3fb4',\n",
       "  'HTTPStatusCode': 200,\n",
       "  'HTTPHeaders': {'x-amzn-requestid': '52ca751c-9617-4b7e-8e47-62ad126b3fb4',\n",
       "   'content-type': 'application/x-amz-json-1.1',\n",
       "   'date': 'Wed, 16 Oct 2024 04:55:44 GMT',\n",
       "   'content-length': '0'},\n",
       "  'RetryAttempts': 0}}"
      ]
     },
     "execution_count": 9,
     "metadata": {},
     "output_type": "execute_result"
    }
   ],
   "source": [
    "session = boto3.Session()\n",
    "sagemaker = session.client('sagemaker')\n",
    "\n",
    "sagemaker.delete_endpoint(EndpointName=LLM_ENDPOINT_NAME)\n",
    "sagemaker.delete_model(ModelName=LLM_MODEL_NAME)\n",
    "sagemaker.delete_endpoint_config(EndpointConfigName=LLM_ENDPOINT_NAME)\n",
    "\n",
    "sagemaker.delete_endpoint(EndpointName=EMB_ENDPOINT_NAME)\n",
    "sagemaker.delete_model(ModelName=EMB_MODEL_NAME)\n",
    "sagemaker.delete_endpoint_config(EndpointConfigName=EMB_ENDPOINT_NAME)"
   ]
  },
  {
   "cell_type": "code",
   "execution_count": 19,
   "metadata": {},
   "outputs": [
    {
     "name": "stdout",
     "output_type": "stream",
     "text": [
      "End point not found\n"
     ]
    }
   ],
   "source": [
    "import boto3\n",
    "import yaml\n",
    "from botocore.exceptions import ClientError\n",
    "\n",
    "sagemaker_client = boto3.client('sagemaker')\n",
    "\n",
    "try:\n",
    "    sagemaker_client.describe_endpoint(EndpointName=\"LLM_ENDPOINT_NAME\")\n",
    "except ClientError:\n",
    "    print(\"End point not found\")"
   ]
  },
  {
   "cell_type": "code",
   "execution_count": null,
   "metadata": {},
   "outputs": [],
   "source": []
  }
 ],
 "metadata": {
  "kernelspec": {
   "display_name": "venv",
   "language": "python",
   "name": "python3"
  },
  "language_info": {
   "codemirror_mode": {
    "name": "ipython",
    "version": 3
   },
   "file_extension": ".py",
   "mimetype": "text/x-python",
   "name": "python",
   "nbconvert_exporter": "python",
   "pygments_lexer": "ipython3",
   "version": "3.11.1"
  }
 },
 "nbformat": 4,
 "nbformat_minor": 2
}
